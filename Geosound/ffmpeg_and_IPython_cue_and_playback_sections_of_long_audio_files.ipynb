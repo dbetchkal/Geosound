{
 "cells": [
  {
   "cell_type": "markdown",
   "id": "80b9d5e9-2b4c-4b4c-8dd3-5ad549fad937",
   "metadata": {},
   "source": [
    "# Use `ffmpeg` to cue and listen to a section of an audio file\n",
    "This notebook allows you to listen in the browser. <br>\n",
    "\n",
    "- it supports a wide variety of audio filetypes {WAV, FLAC, MP3, etc.} <br>\n",
    "- it presumes the user has both [`ffmpeg` and `ffprobe`](https://ffmpeg.org/download.html) accessible for computation purposes <br>\n",
    "\n",
    "---\n",
    "\n",
    "First, you may wish to know where the ffmpeg executable is located:"
   ]
  },
  {
   "cell_type": "code",
   "execution_count": null,
   "id": "0ac35d55-0373-459e-8202-9a432b761dad",
   "metadata": {},
   "outputs": [],
   "source": [
    "!where ffmpeg"
   ]
  },
  {
   "cell_type": "code",
   "execution_count": null,
   "id": "8ae1ba6a-1f46-46be-8a9d-3f2c428a71ef",
   "metadata": {},
   "outputs": [],
   "source": [
    "!where ffprobe"
   ]
  },
  {
   "cell_type": "markdown",
   "id": "8d8054df-1e77-4f7a-87f1-6e21999fb38f",
   "metadata": {},
   "source": [
    "#### We must import libaries and define functions"
   ]
  },
  {
   "cell_type": "code",
   "execution_count": null,
   "id": "902ee62c-6dd4-49a9-8fa9-4d82af930df4",
   "metadata": {},
   "outputs": [],
   "source": [
    "import datetime as dt\n",
    "import ipywidgets as widgets\n",
    "from IPython.display import display, Audio\n",
    "import json\n",
    "import os\n",
    "import re\n",
    "import subprocess\n",
    "\n",
    "def extract_start_time_from_filename(filename):\n",
    "    \"\"\"\n",
    "    Extracts the start time from the given filename if it matches the datetime pattern.\n",
    "    \n",
    "    Args:\n",
    "        filename (str): The name of the audio file.\n",
    "    \n",
    "    Returns:\n",
    "        datetime.datetime or None: The extracted start time as a datetime object, or None if not found.\n",
    "    \"\"\"\n",
    "    # Define the regex pattern for the datetime format\n",
    "    datetime_pattern = r'(\\d{8})_(\\d{6})'  # Matches YYYYMMDD_HHMMSS\n",
    "\n",
    "    match = re.search(datetime_pattern, filename)\n",
    "    if match:\n",
    "        date_str = match.group(1)  # YYYYMMDD\n",
    "        time_str = match.group(2)  # HHMMSS\n",
    "        # Combine date and time strings\n",
    "        datetime_str = f\"{date_str}_{time_str}\"\n",
    "        # Convert to datetime object\n",
    "        start_time = dt.datetime.strptime(datetime_str, \"%Y%m%d_%H%M%S\")\n",
    "        return start_time\n",
    "    return None\n",
    "\n",
    "# Function to get codec and sample rate using ffprobe\n",
    "def get_audio_info(ffprobe_path, input_file):\n",
    "    command = [\n",
    "        ffprobe_path,\n",
    "        '-v', 'error',\n",
    "        '-select_streams', 'a:0',\n",
    "        '-show_entries', 'stream=codec_name,codec_type,sample_rate',\n",
    "        '-of', 'json',\n",
    "        input_file\n",
    "    ]\n",
    "    \n",
    "    result = subprocess.run(command, capture_output=True, text=True)\n",
    "    audio_info = json.loads(result.stdout)\n",
    "    \n",
    "    # Extract codec and sample rate\n",
    "    codec = audio_info['streams'][0]['codec_name']\n",
    "    sample_rate = int(audio_info['streams'][0]['sample_rate'])\n",
    "    \n",
    "    return codec, sample_rate\n",
    "\n",
    "def filepath_selector(directory):\n",
    "\n",
    "    def get_selected_file(change):\n",
    "        global selected_file_path  # Use the global variable\n",
    "        selected_file = change['new']\n",
    "        if selected_file:  # Check if a file is selected\n",
    "            selected_file_path = os.path.join(directory, selected_file)  # Construct the full file path\n",
    "    \n",
    "\n",
    "    # List files in the specified directory\n",
    "    files = [f for f in os.listdir(directory) if os.path.isfile(os.path.join(directory, f))]\n",
    "    \n",
    "    # Create a dropdown widget for file selection\n",
    "    file_dropdown = widgets.Dropdown(\n",
    "        options=files,\n",
    "        description='Select a file:',\n",
    "        layout=widgets.Layout(width='800px')\n",
    "    )\n",
    "    \n",
    "    # Display the dropdown widget\n",
    "    display(file_dropdown)\n",
    "    \n",
    "    # Variable to store the selected file path\n",
    "    selected_file_path = None\n",
    "    \n",
    "    # Attach the function to the dropdown\n",
    "    file_dropdown.observe(get_selected_file, names='value')\n",
    "\n",
    "# Function to extract audio segment\n",
    "def extract_audio_segment(ffmpeg_path, input_file, start_elapsed, duration, rate, volume=1.0, output_ext=\"wav\", verbose=False):\n",
    "    output_file = 'extracted_audio.'+output_ext  # Output file name\n",
    "    command = [\n",
    "        ffmpeg_path,\n",
    "        '-y', # allow overwriting the output file\n",
    "        '-ss', str(start_elapsed),\n",
    "        '-i', input_file,\n",
    "        '-t', str(duration),\n",
    "        '-ar', str(int(rate)),  # Set audio sample rate\n",
    "        '-filter:a', f'volume={volume}',  # Apply volume amplification\n",
    "        output_file\n",
    "    ]\n",
    "    \n",
    "    # Run the ffmpeg command\n",
    "    result = subprocess.run(command, check=True, stdout=subprocess.PIPE, stderr=subprocess.PIPE)\n",
    "    if(verbose):\n",
    "        print(result.stdout.decode())\n",
    "        print(result.stderr.decode())\n",
    "    return output_file\n"
   ]
  },
  {
   "cell_type": "markdown",
   "id": "1123edc2-8cd3-488c-bb38-0d27b6179025",
   "metadata": {},
   "source": [
    "#### (1) Setup your paths + (2) Define the temporal bounds of the desired selection + (3) Select the audio file containing the bounds"
   ]
  },
  {
   "cell_type": "code",
   "execution_count": null,
   "id": "d72008e2-75d7-4027-9cf6-9bfa912b49ad",
   "metadata": {},
   "outputs": [],
   "source": [
    "# where is `ffmpeg`?\n",
    "ffmpeg_path = r\"C:\\Users\\DBetchkal\\AppData\\Local\\miniforge3\\envs\\geosound\\Library\\bin\\ffmpeg.exe\"\n",
    "ffprobe_path = r\"C:\\Users\\DBetchkal\\AppData\\Local\\miniforge3\\envs\\geosound\\Library\\bin\\ffprobe.exe\"\n",
    "\n",
    "# where are your audio files of interest?\n",
    "directory = r'F:\\Sound Data\\2024 GLBABARTC Bartlett Cove\\01 DATA\\AUDIO'  # Change this to your desired directory of audio files\n",
    "\n",
    "# between which two times would you like to extract?\n",
    "#                              YYYY  M  D  H  MM  SS\n",
    "desired_start_dt = dt.datetime(2024, 6, 7, 18, 10, 13)\n",
    "desired_end_dt  =  dt.datetime(2024, 6, 7, 18, 16, 35)\n",
    "\n",
    "filepath_selector(directory) # initializes a global variable `selected_file_path`"
   ]
  },
  {
   "cell_type": "markdown",
   "id": "74bfb783-5ecd-49b5-a69b-2c87076af1ee",
   "metadata": {},
   "source": [
    "#### This block is mostly automatic - it relies on the `IPython.Audio` widget for audio playback"
   ]
  },
  {
   "cell_type": "code",
   "execution_count": null,
   "id": "5daf6453-671b-436f-bc39-f2c9eac26c66",
   "metadata": {},
   "outputs": [],
   "source": [
    "file_begins = extract_start_time_from_filename(selected_file_path)\n",
    "\n",
    "# user-defined start time and selection duration\n",
    "start_elapsed = str(int((desired_start_dt - file_begins).total_seconds()))\n",
    "dur = str(int((desired_end_dt - desired_start_dt).total_seconds()))\n",
    "# dur = 100 # or, you can just pass in a duration in seconds if preferred\n",
    "\n",
    "# first we'll use `ffprobe` to find specific information about this audio file\n",
    "file_codec,file_rate = get_audio_info(ffprobe_path, selected_file_path)\n",
    "\n",
    "# extract the audio segment\n",
    "extracted_audio_path = extract_audio_segment(ffmpeg_path, \n",
    "                                             selected_file_path, \n",
    "                                             start_elapsed, \n",
    "                                             duration=dur,\n",
    "                                             rate=file_rate,   # automatically determined using `ffprobe`\n",
    "                                             volume=2.0, # many natural audio recordings are faint: a multiplicative gain factor helps (try 2.0 to 4.0x)\n",
    "                                             output_ext=\"mp3\", # for large sections, \"mp3\" is faster... for lossless conversion, use \"wav\"\n",
    "                                             verbose=False) # note, if you'd like detailed printout information, set to `True`\n",
    "\n",
    "# play the extracted audio\n",
    "audio_widget = Audio(extracted_audio_path)\n",
    "display(audio_widget)"
   ]
  }
 ],
 "metadata": {
  "kernelspec": {
   "display_name": "Python 3 (ipykernel)",
   "language": "python",
   "name": "python3"
  },
  "language_info": {
   "codemirror_mode": {
    "name": "ipython",
    "version": 3
   },
   "file_extension": ".py",
   "mimetype": "text/x-python",
   "name": "python",
   "nbconvert_exporter": "python",
   "pygments_lexer": "ipython3",
   "version": "3.12.0"
  }
 },
 "nbformat": 4,
 "nbformat_minor": 5
}
