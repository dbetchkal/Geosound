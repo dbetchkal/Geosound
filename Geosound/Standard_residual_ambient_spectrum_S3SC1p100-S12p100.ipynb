{
 "cells": [
  {
   "cell_type": "markdown",
   "metadata": {},
   "source": [
    "# Compile a standard residual ambient spectrum\n",
    "following [ANSI/ASA S3/SC1.100-2014 ANSI/ASA S12.100-2014 *Methods to Define and Measure the Residual Sound in Protected Natural and Quiet Residential Areas*](https://webstore.ansi.org/standards/asa/ansiasas3sc11002014s12) methods"
   ]
  },
  {
   "cell_type": "code",
   "execution_count": null,
   "metadata": {},
   "outputs": [],
   "source": [
    "import numpy as np\n",
    "import pandas as pd\n",
    "from matplotlib import pyplot as plt, rcParams, rc\n",
    "import matplotlib.dates as mdates\n",
    "from matplotlib.patches import Rectangle\n",
    "import matplotlib.ticker as mticker\n",
    "import scipy\n",
    "from scipy import ndimage, stats, signal, fft\n",
    "from sklearn import decomposition\n",
    "from skimage.transform import resize\n",
    "import ruptures as rpt\n",
    "import os\n",
    "import datetime as dt\n",
    "import time\n",
    "import sys\n",
    "\n",
    "# general NSNSD acoustical tools\n",
    "# =======================================================================================================\n",
    "repo_dir = r\"C:\\Users\\DBetchkal\\CODE\\GITHUB\" # ADJUST TO YOUR LOCAL DIRECTORY\n",
    "# =======================================================================================================\n",
    "sys.path.append(os.path.join(repo_dir, \"iyore\"))\n",
    "sys.path.append(os.path.join(repo_dir, \"derivedDataFunctions\"))\n",
    "sys.path.append(os.path.join(repo_dir, \"NPS-ActiveSpace\"))\n",
    "\n",
    "# # ========== IF YOU DON'T HAVE THE TOOLS ALREDY, USE =========================\n",
    "# !git clone https://github.com/nationalparkservice/iyore.git\n",
    "# !git clone https://github.com/dbetchkal/derivedDataFunctions.git\n",
    "# !git clone https://github.com/dbetchkal/NPS-ActiveSpace.git\n",
    "\n",
    "import iyore\n",
    "from nps_active_space.utils.models import Nvspl\n",
    "from derivedDataFunctions import *\n",
    "\n",
    "def ambience_from_pickle(ambience_src: str) -> pd.Series:\n",
    "    \n",
    "    Lx = pd.read_pickle(ambience_src)\n",
    "    return Lx\n",
    "\n",
    "def spectrum_plot(amb_series, ylabel=\"Sound Level\"):\n",
    "\n",
    "    fig, ax = plt.subplots(1, 1, figsize=(10, 6))\n",
    "    ax.plot(amb_series.index.astype('float'), amb_series, \n",
    "            ls=\":\", lw=0.5, marker=\"o\", ms=4, color=\"k\")\n",
    "    ax.set_xscale('log')\n",
    "    ax.set_xlabel(\"Frequency (Hz)\", labelpad=20)\n",
    "    ax.set_ylabel(ylabel, labelpad=20)\n",
    "    return fig, ax\n"
   ]
  },
  {
   "cell_type": "markdown",
   "metadata": {},
   "source": [
    "#### Project setup! <font color=\"green\">please edit</font>\n",
    "- `ds`\n",
    "- `des`\n",
    "- `x`"
   ]
  },
  {
   "cell_type": "code",
   "execution_count": null,
   "metadata": {},
   "outputs": [],
   "source": [
    "# A dataset of Type-1 acoustic monitoring deployments\n",
    "ds = iyore.Dataset(r\"D:\\Sound\\MORU_ActiveSpace\") # where is the `iyore` \".structure.txt\" file located?\n",
    "\n",
    "des = \"MORU0022025\" # a deployment designator, styled as UNITSITEYYYY or UNIT000YYYY\n",
    "x = 90 # exceedance level in the form Lx\n",
    "\n",
    "dataDirectory = [deployment.path for deployment in ds.dataDir(unit=des[:4], site=des[4:-4], deploy_year=des[-4:])][0]\n",
    "dataDirectory # find the deployment you wish, note the index"
   ]
  },
  {
   "cell_type": "markdown",
   "metadata": {},
   "source": [
    "### Compile the estimate and save"
   ]
  },
  {
   "cell_type": "code",
   "execution_count": null,
   "metadata": {},
   "outputs": [],
   "source": [
    "nv = Nvspl([e.path for e in ds.nvspl(unit=des[:4], site=des[4:-4], year=des[-4:])]) # parse the acoustic record\n",
    "nv_lowWind = nv.loc[nv['WindSpeed'] <= 5.0, :] # we are only concerned with viable observations (where wind speed ≤5.0 m/s)\n",
    "\n",
    "# compute the spectral exceedance\n",
    "# x = 50 # exceedance level in the form Lx\n",
    "Lx = nv_lowWind.loc[:, \"12.5\":\"20000\"].quantile(1 - (x/100))\n",
    "Lx.name = des + \" \" + \"residual ambient spectrum\"\n",
    "\n",
    "print(Lx)\n",
    "\n",
    "# save it to a pickle file\n",
    "output_filename = os.path.join(dataDirectory, des+\"_L\"+str(x)+\".pkl\")\n",
    "Lx.to_pickle(output_filename, compression='infer', protocol=2)"
   ]
  },
  {
   "cell_type": "markdown",
   "metadata": {},
   "source": [
    "### Reload the estimate and plot"
   ]
  },
  {
   "cell_type": "code",
   "execution_count": null,
   "metadata": {},
   "outputs": [],
   "source": [
    "amb = ambience_from_pickle(output_filename) # or paste in your own path\n",
    "\n",
    "fig, ax = spectrum_plot(amb)\n",
    "plt.show()\n",
    "plt.close()"
   ]
  }
 ],
 "metadata": {
  "kernelspec": {
   "display_name": "Python 3 (ipykernel)",
   "language": "python",
   "name": "python3"
  },
  "language_info": {
   "codemirror_mode": {
    "name": "ipython",
    "version": 3
   },
   "file_extension": ".py",
   "mimetype": "text/x-python",
   "name": "python",
   "nbconvert_exporter": "python",
   "pygments_lexer": "ipython3",
   "version": "3.12.0"
  }
 },
 "nbformat": 4,
 "nbformat_minor": 4
}
